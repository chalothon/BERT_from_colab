{
  "nbformat": 4,
  "nbformat_minor": 0,
  "metadata": {
    "colab": {
      "name": "distilbert-extractive-summarizer.ipynb",
      "provenance": [],
      "collapsed_sections": [],
      "authorship_tag": "ABX9TyM/vzTrvvFVgcCpQctX4eyR",
      "include_colab_link": true
    },
    "kernelspec": {
      "name": "python3",
      "display_name": "Python 3"
    },
    "widgets": {
      "application/vnd.jupyter.widget-state+json": {
        "017ae58e18a4406ab61e3794c5d14e06": {
          "model_module": "@jupyter-widgets/controls",
          "model_name": "HBoxModel",
          "state": {
            "_view_name": "HBoxView",
            "_dom_classes": [],
            "_model_name": "HBoxModel",
            "_view_module": "@jupyter-widgets/controls",
            "_model_module_version": "1.5.0",
            "_view_count": null,
            "_view_module_version": "1.5.0",
            "box_style": "",
            "layout": "IPY_MODEL_044931dbed4f405c98dc19ba6b6c7859",
            "_model_module": "@jupyter-widgets/controls",
            "children": [
              "IPY_MODEL_e7acd0f56c8a426aa5aefff7010425ce",
              "IPY_MODEL_bc84e90ab402427788780f71eb93bdba"
            ]
          }
        },
        "044931dbed4f405c98dc19ba6b6c7859": {
          "model_module": "@jupyter-widgets/base",
          "model_name": "LayoutModel",
          "state": {
            "_view_name": "LayoutView",
            "grid_template_rows": null,
            "right": null,
            "justify_content": null,
            "_view_module": "@jupyter-widgets/base",
            "overflow": null,
            "_model_module_version": "1.2.0",
            "_view_count": null,
            "flex_flow": null,
            "width": null,
            "min_width": null,
            "border": null,
            "align_items": null,
            "bottom": null,
            "_model_module": "@jupyter-widgets/base",
            "top": null,
            "grid_column": null,
            "overflow_y": null,
            "overflow_x": null,
            "grid_auto_flow": null,
            "grid_area": null,
            "grid_template_columns": null,
            "flex": null,
            "_model_name": "LayoutModel",
            "justify_items": null,
            "grid_row": null,
            "max_height": null,
            "align_content": null,
            "visibility": null,
            "align_self": null,
            "height": null,
            "min_height": null,
            "padding": null,
            "grid_auto_rows": null,
            "grid_gap": null,
            "max_width": null,
            "order": null,
            "_view_module_version": "1.2.0",
            "grid_template_areas": null,
            "object_position": null,
            "object_fit": null,
            "grid_auto_columns": null,
            "margin": null,
            "display": null,
            "left": null
          }
        },
        "e7acd0f56c8a426aa5aefff7010425ce": {
          "model_module": "@jupyter-widgets/controls",
          "model_name": "IntProgressModel",
          "state": {
            "_view_name": "ProgressView",
            "style": "IPY_MODEL_70e3e0737eff485fad33ce3cba032346",
            "_dom_classes": [],
            "description": "Downloading: 100%",
            "_model_name": "IntProgressModel",
            "bar_style": "success",
            "max": 546,
            "_view_module": "@jupyter-widgets/controls",
            "_model_module_version": "1.5.0",
            "value": 546,
            "_view_count": null,
            "_view_module_version": "1.5.0",
            "orientation": "horizontal",
            "min": 0,
            "description_tooltip": null,
            "_model_module": "@jupyter-widgets/controls",
            "layout": "IPY_MODEL_b272afdc15124172adf060e43a7a37e6"
          }
        },
        "bc84e90ab402427788780f71eb93bdba": {
          "model_module": "@jupyter-widgets/controls",
          "model_name": "HTMLModel",
          "state": {
            "_view_name": "HTMLView",
            "style": "IPY_MODEL_b432a4af22424013bab44ec013e1a23b",
            "_dom_classes": [],
            "description": "",
            "_model_name": "HTMLModel",
            "placeholder": "​",
            "_view_module": "@jupyter-widgets/controls",
            "_model_module_version": "1.5.0",
            "value": " 546/546 [00:00&lt;00:00, 2.88kB/s]",
            "_view_count": null,
            "_view_module_version": "1.5.0",
            "description_tooltip": null,
            "_model_module": "@jupyter-widgets/controls",
            "layout": "IPY_MODEL_840c2a2610be4f9ea39f98d890ee2308"
          }
        },
        "70e3e0737eff485fad33ce3cba032346": {
          "model_module": "@jupyter-widgets/controls",
          "model_name": "ProgressStyleModel",
          "state": {
            "_view_name": "StyleView",
            "_model_name": "ProgressStyleModel",
            "description_width": "initial",
            "_view_module": "@jupyter-widgets/base",
            "_model_module_version": "1.5.0",
            "_view_count": null,
            "_view_module_version": "1.2.0",
            "bar_color": null,
            "_model_module": "@jupyter-widgets/controls"
          }
        },
        "b272afdc15124172adf060e43a7a37e6": {
          "model_module": "@jupyter-widgets/base",
          "model_name": "LayoutModel",
          "state": {
            "_view_name": "LayoutView",
            "grid_template_rows": null,
            "right": null,
            "justify_content": null,
            "_view_module": "@jupyter-widgets/base",
            "overflow": null,
            "_model_module_version": "1.2.0",
            "_view_count": null,
            "flex_flow": null,
            "width": null,
            "min_width": null,
            "border": null,
            "align_items": null,
            "bottom": null,
            "_model_module": "@jupyter-widgets/base",
            "top": null,
            "grid_column": null,
            "overflow_y": null,
            "overflow_x": null,
            "grid_auto_flow": null,
            "grid_area": null,
            "grid_template_columns": null,
            "flex": null,
            "_model_name": "LayoutModel",
            "justify_items": null,
            "grid_row": null,
            "max_height": null,
            "align_content": null,
            "visibility": null,
            "align_self": null,
            "height": null,
            "min_height": null,
            "padding": null,
            "grid_auto_rows": null,
            "grid_gap": null,
            "max_width": null,
            "order": null,
            "_view_module_version": "1.2.0",
            "grid_template_areas": null,
            "object_position": null,
            "object_fit": null,
            "grid_auto_columns": null,
            "margin": null,
            "display": null,
            "left": null
          }
        },
        "b432a4af22424013bab44ec013e1a23b": {
          "model_module": "@jupyter-widgets/controls",
          "model_name": "DescriptionStyleModel",
          "state": {
            "_view_name": "StyleView",
            "_model_name": "DescriptionStyleModel",
            "description_width": "",
            "_view_module": "@jupyter-widgets/base",
            "_model_module_version": "1.5.0",
            "_view_count": null,
            "_view_module_version": "1.2.0",
            "_model_module": "@jupyter-widgets/controls"
          }
        },
        "840c2a2610be4f9ea39f98d890ee2308": {
          "model_module": "@jupyter-widgets/base",
          "model_name": "LayoutModel",
          "state": {
            "_view_name": "LayoutView",
            "grid_template_rows": null,
            "right": null,
            "justify_content": null,
            "_view_module": "@jupyter-widgets/base",
            "overflow": null,
            "_model_module_version": "1.2.0",
            "_view_count": null,
            "flex_flow": null,
            "width": null,
            "min_width": null,
            "border": null,
            "align_items": null,
            "bottom": null,
            "_model_module": "@jupyter-widgets/base",
            "top": null,
            "grid_column": null,
            "overflow_y": null,
            "overflow_x": null,
            "grid_auto_flow": null,
            "grid_area": null,
            "grid_template_columns": null,
            "flex": null,
            "_model_name": "LayoutModel",
            "justify_items": null,
            "grid_row": null,
            "max_height": null,
            "align_content": null,
            "visibility": null,
            "align_self": null,
            "height": null,
            "min_height": null,
            "padding": null,
            "grid_auto_rows": null,
            "grid_gap": null,
            "max_width": null,
            "order": null,
            "_view_module_version": "1.2.0",
            "grid_template_areas": null,
            "object_position": null,
            "object_fit": null,
            "grid_auto_columns": null,
            "margin": null,
            "display": null,
            "left": null
          }
        },
        "df994ed12a144eaaabbdea8e917a8da2": {
          "model_module": "@jupyter-widgets/controls",
          "model_name": "HBoxModel",
          "state": {
            "_view_name": "HBoxView",
            "_dom_classes": [],
            "_model_name": "HBoxModel",
            "_view_module": "@jupyter-widgets/controls",
            "_model_module_version": "1.5.0",
            "_view_count": null,
            "_view_module_version": "1.5.0",
            "box_style": "",
            "layout": "IPY_MODEL_3ebad87ca9c54844a20ae886c761929b",
            "_model_module": "@jupyter-widgets/controls",
            "children": [
              "IPY_MODEL_9698309347a34f0282cecf1d23c68b57",
              "IPY_MODEL_345860e2f920494294a7549e53709d1d"
            ]
          }
        },
        "3ebad87ca9c54844a20ae886c761929b": {
          "model_module": "@jupyter-widgets/base",
          "model_name": "LayoutModel",
          "state": {
            "_view_name": "LayoutView",
            "grid_template_rows": null,
            "right": null,
            "justify_content": null,
            "_view_module": "@jupyter-widgets/base",
            "overflow": null,
            "_model_module_version": "1.2.0",
            "_view_count": null,
            "flex_flow": null,
            "width": null,
            "min_width": null,
            "border": null,
            "align_items": null,
            "bottom": null,
            "_model_module": "@jupyter-widgets/base",
            "top": null,
            "grid_column": null,
            "overflow_y": null,
            "overflow_x": null,
            "grid_auto_flow": null,
            "grid_area": null,
            "grid_template_columns": null,
            "flex": null,
            "_model_name": "LayoutModel",
            "justify_items": null,
            "grid_row": null,
            "max_height": null,
            "align_content": null,
            "visibility": null,
            "align_self": null,
            "height": null,
            "min_height": null,
            "padding": null,
            "grid_auto_rows": null,
            "grid_gap": null,
            "max_width": null,
            "order": null,
            "_view_module_version": "1.2.0",
            "grid_template_areas": null,
            "object_position": null,
            "object_fit": null,
            "grid_auto_columns": null,
            "margin": null,
            "display": null,
            "left": null
          }
        },
        "9698309347a34f0282cecf1d23c68b57": {
          "model_module": "@jupyter-widgets/controls",
          "model_name": "IntProgressModel",
          "state": {
            "_view_name": "ProgressView",
            "style": "IPY_MODEL_753f6f9d46224cf7ac3289431d007680",
            "_dom_classes": [],
            "description": "Downloading: 100%",
            "_model_name": "IntProgressModel",
            "bar_style": "success",
            "max": 231508,
            "_view_module": "@jupyter-widgets/controls",
            "_model_module_version": "1.5.0",
            "value": 231508,
            "_view_count": null,
            "_view_module_version": "1.5.0",
            "orientation": "horizontal",
            "min": 0,
            "description_tooltip": null,
            "_model_module": "@jupyter-widgets/controls",
            "layout": "IPY_MODEL_b8f4dad35f1249a09f70f1a6ae914b34"
          }
        },
        "345860e2f920494294a7549e53709d1d": {
          "model_module": "@jupyter-widgets/controls",
          "model_name": "HTMLModel",
          "state": {
            "_view_name": "HTMLView",
            "style": "IPY_MODEL_b53e6eb3cc054eda8f2b71e15e4bd943",
            "_dom_classes": [],
            "description": "",
            "_model_name": "HTMLModel",
            "placeholder": "​",
            "_view_module": "@jupyter-widgets/controls",
            "_model_module_version": "1.5.0",
            "value": " 232k/232k [00:00&lt;00:00, 2.01MB/s]",
            "_view_count": null,
            "_view_module_version": "1.5.0",
            "description_tooltip": null,
            "_model_module": "@jupyter-widgets/controls",
            "layout": "IPY_MODEL_72347cdde27f41609f161ca6a6e955c2"
          }
        },
        "753f6f9d46224cf7ac3289431d007680": {
          "model_module": "@jupyter-widgets/controls",
          "model_name": "ProgressStyleModel",
          "state": {
            "_view_name": "StyleView",
            "_model_name": "ProgressStyleModel",
            "description_width": "initial",
            "_view_module": "@jupyter-widgets/base",
            "_model_module_version": "1.5.0",
            "_view_count": null,
            "_view_module_version": "1.2.0",
            "bar_color": null,
            "_model_module": "@jupyter-widgets/controls"
          }
        },
        "b8f4dad35f1249a09f70f1a6ae914b34": {
          "model_module": "@jupyter-widgets/base",
          "model_name": "LayoutModel",
          "state": {
            "_view_name": "LayoutView",
            "grid_template_rows": null,
            "right": null,
            "justify_content": null,
            "_view_module": "@jupyter-widgets/base",
            "overflow": null,
            "_model_module_version": "1.2.0",
            "_view_count": null,
            "flex_flow": null,
            "width": null,
            "min_width": null,
            "border": null,
            "align_items": null,
            "bottom": null,
            "_model_module": "@jupyter-widgets/base",
            "top": null,
            "grid_column": null,
            "overflow_y": null,
            "overflow_x": null,
            "grid_auto_flow": null,
            "grid_area": null,
            "grid_template_columns": null,
            "flex": null,
            "_model_name": "LayoutModel",
            "justify_items": null,
            "grid_row": null,
            "max_height": null,
            "align_content": null,
            "visibility": null,
            "align_self": null,
            "height": null,
            "min_height": null,
            "padding": null,
            "grid_auto_rows": null,
            "grid_gap": null,
            "max_width": null,
            "order": null,
            "_view_module_version": "1.2.0",
            "grid_template_areas": null,
            "object_position": null,
            "object_fit": null,
            "grid_auto_columns": null,
            "margin": null,
            "display": null,
            "left": null
          }
        },
        "b53e6eb3cc054eda8f2b71e15e4bd943": {
          "model_module": "@jupyter-widgets/controls",
          "model_name": "DescriptionStyleModel",
          "state": {
            "_view_name": "StyleView",
            "_model_name": "DescriptionStyleModel",
            "description_width": "",
            "_view_module": "@jupyter-widgets/base",
            "_model_module_version": "1.5.0",
            "_view_count": null,
            "_view_module_version": "1.2.0",
            "_model_module": "@jupyter-widgets/controls"
          }
        },
        "72347cdde27f41609f161ca6a6e955c2": {
          "model_module": "@jupyter-widgets/base",
          "model_name": "LayoutModel",
          "state": {
            "_view_name": "LayoutView",
            "grid_template_rows": null,
            "right": null,
            "justify_content": null,
            "_view_module": "@jupyter-widgets/base",
            "overflow": null,
            "_model_module_version": "1.2.0",
            "_view_count": null,
            "flex_flow": null,
            "width": null,
            "min_width": null,
            "border": null,
            "align_items": null,
            "bottom": null,
            "_model_module": "@jupyter-widgets/base",
            "top": null,
            "grid_column": null,
            "overflow_y": null,
            "overflow_x": null,
            "grid_auto_flow": null,
            "grid_area": null,
            "grid_template_columns": null,
            "flex": null,
            "_model_name": "LayoutModel",
            "justify_items": null,
            "grid_row": null,
            "max_height": null,
            "align_content": null,
            "visibility": null,
            "align_self": null,
            "height": null,
            "min_height": null,
            "padding": null,
            "grid_auto_rows": null,
            "grid_gap": null,
            "max_width": null,
            "order": null,
            "_view_module_version": "1.2.0",
            "grid_template_areas": null,
            "object_position": null,
            "object_fit": null,
            "grid_auto_columns": null,
            "margin": null,
            "display": null,
            "left": null
          }
        }
      }
    }
  },
  "cells": [
    {
      "cell_type": "markdown",
      "metadata": {
        "id": "view-in-github",
        "colab_type": "text"
      },
      "source": [
        "<a href=\"https://colab.research.google.com/github/chalothon/BERT_from_colab/blob/master/distilbert_extractive_summarizer.ipynb\" target=\"_parent\"><img src=\"https://colab.research.google.com/assets/colab-badge.svg\" alt=\"Open In Colab\"/></a>"
      ]
    },
    {
      "cell_type": "code",
      "metadata": {
        "id": "3npohR-KjJi3",
        "colab_type": "code",
        "colab": {
          "base_uri": "https://localhost:8080/",
          "height": 1000
        },
        "outputId": "838095bf-a509-47e2-92a7-a2acab846618"
      },
      "source": [
        "!pip install bert-extractive-summarizer==0.4.2"
      ],
      "execution_count": 1,
      "outputs": [
        {
          "output_type": "stream",
          "text": [
            "Collecting bert-extractive-summarizer==0.4.2\n",
            "  Downloading https://files.pythonhosted.org/packages/23/1d/71f0a5c7f81b1a87d4428a6a935e9ddeb5e662e41512952e11bd10533cd9/bert-extractive-summarizer-0.4.2.tar.gz\n",
            "Collecting transformers\n",
            "\u001b[?25l  Downloading https://files.pythonhosted.org/packages/a3/78/92cedda05552398352ed9784908b834ee32a0bd071a9b32de287327370b7/transformers-2.8.0-py3-none-any.whl (563kB)\n",
            "\u001b[K     |████████████████████████████████| 573kB 3.8MB/s \n",
            "\u001b[?25hRequirement already satisfied: scikit-learn in /usr/local/lib/python3.6/dist-packages (from bert-extractive-summarizer==0.4.2) (0.22.2.post1)\n",
            "Requirement already satisfied: spacy in /usr/local/lib/python3.6/dist-packages (from bert-extractive-summarizer==0.4.2) (2.2.4)\n",
            "Collecting sentencepiece\n",
            "\u001b[?25l  Downloading https://files.pythonhosted.org/packages/74/f4/2d5214cbf13d06e7cb2c20d84115ca25b53ea76fa1f0ade0e3c9749de214/sentencepiece-0.1.85-cp36-cp36m-manylinux1_x86_64.whl (1.0MB)\n",
            "\u001b[K     |████████████████████████████████| 1.0MB 21.6MB/s \n",
            "\u001b[?25hCollecting sacremoses\n",
            "\u001b[?25l  Downloading https://files.pythonhosted.org/packages/99/50/93509f906a40bffd7d175f97fd75ea328ad9bd91f48f59c4bd084c94a25e/sacremoses-0.0.41.tar.gz (883kB)\n",
            "\u001b[K     |████████████████████████████████| 890kB 29.0MB/s \n",
            "\u001b[?25hRequirement already satisfied: tqdm>=4.27 in /usr/local/lib/python3.6/dist-packages (from transformers->bert-extractive-summarizer==0.4.2) (4.38.0)\n",
            "Requirement already satisfied: dataclasses; python_version < \"3.7\" in /usr/local/lib/python3.6/dist-packages (from transformers->bert-extractive-summarizer==0.4.2) (0.7)\n",
            "Requirement already satisfied: numpy in /usr/local/lib/python3.6/dist-packages (from transformers->bert-extractive-summarizer==0.4.2) (1.18.2)\n",
            "Requirement already satisfied: requests in /usr/local/lib/python3.6/dist-packages (from transformers->bert-extractive-summarizer==0.4.2) (2.21.0)\n",
            "Requirement already satisfied: filelock in /usr/local/lib/python3.6/dist-packages (from transformers->bert-extractive-summarizer==0.4.2) (3.0.12)\n",
            "Requirement already satisfied: regex!=2019.12.17 in /usr/local/lib/python3.6/dist-packages (from transformers->bert-extractive-summarizer==0.4.2) (2019.12.20)\n",
            "Collecting tokenizers==0.5.2\n",
            "\u001b[?25l  Downloading https://files.pythonhosted.org/packages/d1/3f/73c881ea4723e43c1e9acf317cf407fab3a278daab3a69c98dcac511c04f/tokenizers-0.5.2-cp36-cp36m-manylinux1_x86_64.whl (3.7MB)\n",
            "\u001b[K     |████████████████████████████████| 3.7MB 39.6MB/s \n",
            "\u001b[?25hRequirement already satisfied: boto3 in /usr/local/lib/python3.6/dist-packages (from transformers->bert-extractive-summarizer==0.4.2) (1.12.38)\n",
            "Requirement already satisfied: scipy>=0.17.0 in /usr/local/lib/python3.6/dist-packages (from scikit-learn->bert-extractive-summarizer==0.4.2) (1.4.1)\n",
            "Requirement already satisfied: joblib>=0.11 in /usr/local/lib/python3.6/dist-packages (from scikit-learn->bert-extractive-summarizer==0.4.2) (0.14.1)\n",
            "Requirement already satisfied: wasabi<1.1.0,>=0.4.0 in /usr/local/lib/python3.6/dist-packages (from spacy->bert-extractive-summarizer==0.4.2) (0.6.0)\n",
            "Requirement already satisfied: preshed<3.1.0,>=3.0.2 in /usr/local/lib/python3.6/dist-packages (from spacy->bert-extractive-summarizer==0.4.2) (3.0.2)\n",
            "Requirement already satisfied: srsly<1.1.0,>=1.0.2 in /usr/local/lib/python3.6/dist-packages (from spacy->bert-extractive-summarizer==0.4.2) (1.0.2)\n",
            "Requirement already satisfied: setuptools in /usr/local/lib/python3.6/dist-packages (from spacy->bert-extractive-summarizer==0.4.2) (46.1.3)\n",
            "Requirement already satisfied: catalogue<1.1.0,>=0.0.7 in /usr/local/lib/python3.6/dist-packages (from spacy->bert-extractive-summarizer==0.4.2) (1.0.0)\n",
            "Requirement already satisfied: thinc==7.4.0 in /usr/local/lib/python3.6/dist-packages (from spacy->bert-extractive-summarizer==0.4.2) (7.4.0)\n",
            "Requirement already satisfied: murmurhash<1.1.0,>=0.28.0 in /usr/local/lib/python3.6/dist-packages (from spacy->bert-extractive-summarizer==0.4.2) (1.0.2)\n",
            "Requirement already satisfied: cymem<2.1.0,>=2.0.2 in /usr/local/lib/python3.6/dist-packages (from spacy->bert-extractive-summarizer==0.4.2) (2.0.3)\n",
            "Requirement already satisfied: blis<0.5.0,>=0.4.0 in /usr/local/lib/python3.6/dist-packages (from spacy->bert-extractive-summarizer==0.4.2) (0.4.1)\n",
            "Requirement already satisfied: plac<1.2.0,>=0.9.6 in /usr/local/lib/python3.6/dist-packages (from spacy->bert-extractive-summarizer==0.4.2) (1.1.3)\n",
            "Requirement already satisfied: six in /usr/local/lib/python3.6/dist-packages (from sacremoses->transformers->bert-extractive-summarizer==0.4.2) (1.12.0)\n",
            "Requirement already satisfied: click in /usr/local/lib/python3.6/dist-packages (from sacremoses->transformers->bert-extractive-summarizer==0.4.2) (7.1.1)\n",
            "Requirement already satisfied: idna<2.9,>=2.5 in /usr/local/lib/python3.6/dist-packages (from requests->transformers->bert-extractive-summarizer==0.4.2) (2.8)\n",
            "Requirement already satisfied: certifi>=2017.4.17 in /usr/local/lib/python3.6/dist-packages (from requests->transformers->bert-extractive-summarizer==0.4.2) (2020.4.5.1)\n",
            "Requirement already satisfied: chardet<3.1.0,>=3.0.2 in /usr/local/lib/python3.6/dist-packages (from requests->transformers->bert-extractive-summarizer==0.4.2) (3.0.4)\n",
            "Requirement already satisfied: urllib3<1.25,>=1.21.1 in /usr/local/lib/python3.6/dist-packages (from requests->transformers->bert-extractive-summarizer==0.4.2) (1.24.3)\n",
            "Requirement already satisfied: jmespath<1.0.0,>=0.7.1 in /usr/local/lib/python3.6/dist-packages (from boto3->transformers->bert-extractive-summarizer==0.4.2) (0.9.5)\n",
            "Requirement already satisfied: botocore<1.16.0,>=1.15.38 in /usr/local/lib/python3.6/dist-packages (from boto3->transformers->bert-extractive-summarizer==0.4.2) (1.15.38)\n",
            "Requirement already satisfied: s3transfer<0.4.0,>=0.3.0 in /usr/local/lib/python3.6/dist-packages (from boto3->transformers->bert-extractive-summarizer==0.4.2) (0.3.3)\n",
            "Requirement already satisfied: importlib-metadata>=0.20; python_version < \"3.8\" in /usr/local/lib/python3.6/dist-packages (from catalogue<1.1.0,>=0.0.7->spacy->bert-extractive-summarizer==0.4.2) (1.6.0)\n",
            "Requirement already satisfied: docutils<0.16,>=0.10 in /usr/local/lib/python3.6/dist-packages (from botocore<1.16.0,>=1.15.38->boto3->transformers->bert-extractive-summarizer==0.4.2) (0.15.2)\n",
            "Requirement already satisfied: python-dateutil<3.0.0,>=2.1 in /usr/local/lib/python3.6/dist-packages (from botocore<1.16.0,>=1.15.38->boto3->transformers->bert-extractive-summarizer==0.4.2) (2.8.1)\n",
            "Requirement already satisfied: zipp>=0.5 in /usr/local/lib/python3.6/dist-packages (from importlib-metadata>=0.20; python_version < \"3.8\"->catalogue<1.1.0,>=0.0.7->spacy->bert-extractive-summarizer==0.4.2) (3.1.0)\n",
            "Building wheels for collected packages: bert-extractive-summarizer, sacremoses\n",
            "  Building wheel for bert-extractive-summarizer (setup.py) ... \u001b[?25l\u001b[?25hdone\n",
            "  Created wheel for bert-extractive-summarizer: filename=bert_extractive_summarizer-0.4.2-cp36-none-any.whl size=13711 sha256=aa9ca41538b81cdedfe4d4b1d566cdbe8aab371b5354dd3ae0761718886015e7\n",
            "  Stored in directory: /root/.cache/pip/wheels/13/bc/30/654eb9e657177a56cba927c5a20b6cd01fb229b1ed2bf9b371\n",
            "  Building wheel for sacremoses (setup.py) ... \u001b[?25l\u001b[?25hdone\n",
            "  Created wheel for sacremoses: filename=sacremoses-0.0.41-cp36-none-any.whl size=893334 sha256=5f8ab01de9d0b524eaf7c281ad56c7dcc24c1bb8e31a8242e238514bf08f7d03\n",
            "  Stored in directory: /root/.cache/pip/wheels/22/5a/d4/b020a81249de7dc63758a34222feaa668dbe8ebfe9170cc9b1\n",
            "Successfully built bert-extractive-summarizer sacremoses\n",
            "Installing collected packages: sentencepiece, sacremoses, tokenizers, transformers, bert-extractive-summarizer\n",
            "Successfully installed bert-extractive-summarizer-0.4.2 sacremoses-0.0.41 sentencepiece-0.1.85 tokenizers-0.5.2 transformers-2.8.0\n"
          ],
          "name": "stdout"
        }
      ]
    },
    {
      "cell_type": "code",
      "metadata": {
        "id": "gwxiLb--jR3T",
        "colab_type": "code",
        "colab": {
          "base_uri": "https://localhost:8080/",
          "height": 132,
          "referenced_widgets": [
            "017ae58e18a4406ab61e3794c5d14e06",
            "044931dbed4f405c98dc19ba6b6c7859",
            "e7acd0f56c8a426aa5aefff7010425ce",
            "bc84e90ab402427788780f71eb93bdba",
            "70e3e0737eff485fad33ce3cba032346",
            "b272afdc15124172adf060e43a7a37e6",
            "b432a4af22424013bab44ec013e1a23b",
            "840c2a2610be4f9ea39f98d890ee2308",
            "df994ed12a144eaaabbdea8e917a8da2",
            "3ebad87ca9c54844a20ae886c761929b",
            "9698309347a34f0282cecf1d23c68b57",
            "345860e2f920494294a7549e53709d1d",
            "753f6f9d46224cf7ac3289431d007680",
            "b8f4dad35f1249a09f70f1a6ae914b34",
            "b53e6eb3cc054eda8f2b71e15e4bd943",
            "72347cdde27f41609f161ca6a6e955c2"
          ]
        },
        "outputId": "bce40df0-477e-40c8-da78-8959b6f99f0b"
      },
      "source": [
        "import torch\n",
        "from summarizer import Summarizer\n",
        "\n",
        "model = Summarizer('distilbert-base-uncased')"
      ],
      "execution_count": 4,
      "outputs": [
        {
          "output_type": "display_data",
          "data": {
            "application/vnd.jupyter.widget-view+json": {
              "model_id": "017ae58e18a4406ab61e3794c5d14e06",
              "version_minor": 0,
              "version_major": 2
            },
            "text/plain": [
              "HBox(children=(IntProgress(value=0, description='Downloading', max=546, style=ProgressStyle(description_width=…"
            ]
          },
          "metadata": {
            "tags": []
          }
        },
        {
          "output_type": "stream",
          "text": [
            "\n",
            "\n"
          ],
          "name": "stdout"
        },
        {
          "output_type": "display_data",
          "data": {
            "application/vnd.jupyter.widget-view+json": {
              "model_id": "df994ed12a144eaaabbdea8e917a8da2",
              "version_minor": 0,
              "version_major": 2
            },
            "text/plain": [
              "HBox(children=(IntProgress(value=0, description='Downloading', max=231508, style=ProgressStyle(description_wid…"
            ]
          },
          "metadata": {
            "tags": []
          }
        },
        {
          "output_type": "stream",
          "text": [
            "\n"
          ],
          "name": "stdout"
        }
      ]
    },
    {
      "cell_type": "code",
      "metadata": {
        "id": "PKJ64V-Tj5AA",
        "colab_type": "code",
        "colab": {
          "base_uri": "https://localhost:8080/",
          "height": 445
        },
        "outputId": "8f6e10a7-3d85-4be4-a65a-468eaa1fa399"
      },
      "source": [
        "import time\n",
        "start = time.time()\n",
        "f = open(\"0.txt\", \"r\")\n",
        "text1= f.read()\n",
        "text = '''The Chrysler Building, the famous art deco New York skyscraper, will be sold for a small fraction of its previous sales price.\n",
        "    The deal, first reported by The Real Deal, was for $150 million, according to a source familiar with the deal.\n",
        "    Mubadala, an Abu Dhabi investment fund, purchased 90% of the building for $800 million in 2008.\n",
        "    Real estate firm Tishman Speyer had owned the other 10%.\n",
        "    The buyer is RFR Holding, a New York real estate company.\n",
        "    Officials with Tishman and RFR did not immediately respond to a request for comments.\n",
        "    It's unclear when the deal will close.\n",
        "    The building sold fairly quickly after being publicly placed on the market only two months ago.\n",
        "    The sale was handled by CBRE Group.\n",
        "    The incentive to sell the building at such a huge loss was due to the soaring rent the owners pay to Cooper Union, a New York college, for the land under the building.\n",
        "    The rent is rising from $7.75 million last year to $32.5 million this year to $41 million in 2028.\n",
        "    Meantime, rents in the building itself are not rising nearly that fast.\n",
        "    While the building is an iconic landmark in the New York skyline, it is competing against newer office towers with large floor-to-ceiling windows and all the modern amenities.\n",
        "    Still the building is among the best known in the city, even to people who have never been to New York.\n",
        "    It is famous for its triangle-shaped, vaulted windows worked into the stylized crown, along with its distinctive eagle gargoyles near the top.\n",
        "    It has been featured prominently in many films, including Men in Black 3, Spider-Man, Armageddon, Two Weeks Notice and Independence Day.\n",
        "    The previous sale took place just before the 2008 financial meltdown led to a plunge in real estate prices.\n",
        "    Still there have been a number of high profile skyscrapers purchased for top dollar in recent years, including the Waldorf Astoria hotel, which Chinese firm Anbang Insurance purchased in 2016 for nearly $2 billion, and the Willis Tower in Chicago, which was formerly known as Sears Tower, once the world's tallest.\n",
        "    Blackstone Group (BX) bought it for $1.3 billion 2015.\n",
        "    The Chrysler Building was the headquarters of the American automaker until 1953, but it was named for and owned by Chrysler chief Walter Chrysler, not the company itself.\n",
        "    Walter Chrysler had set out to build the tallest building in the world, a competition at that time with another Manhattan skyscraper under construction at 40 Wall Street at the south end of Manhattan. He kept secret the plans for the spire that would grace the top of the building, building it inside the structure and out of view of the public until 40 Wall Street was complete.\n",
        "    Once the competitor could rise no higher, the spire of the Chrysler building was raised into view, giving it the title.'''\n",
        "resp = model(text1)\n",
        "end = time.time()\n",
        "\n",
        "print(f'Response Time: {end-start}')\n",
        "print(f'Summary: {resp}')\n"
      ],
      "execution_count": 8,
      "outputs": [
        {
          "output_type": "stream",
          "text": [
            "Response Time: 47.204445362091064\n",
            "Summary: Selling the Couch is the #1 podcast for aspiring and current mental health private practitioners. as well as the world's top business, marketing, and social media experts to help you become a better business owner. Resources: Visit Allison’s website: www.abundancepracticebuilding.com Visit Allison’s website for her monthly subscription group and find e-courses, scripts, templates, and MORE! Today’s Awesome Sponsor: TheraNest TheraNest helps behavioral health professionals manage their practice with ease and efficiency. Get 21 days free trial and 20% off the monthly fee for the first 3 months: http://sellingthecouch.com/theranest You can read the full show notes at www.sellingthecouch.com/session128\n",
            "My guest today is Sue Marriott, LCSW, in Austin, Texas. She has run multiple therapy groups, even some long-term groups that have run for over a decade! Resources: Selling The Couch Today’s Awesome Sponsor: Brighter Vision You can read the full show notes at www.sellingthecouch.com/session126\n",
            "My guest today is Annie Schuessler, MFT, who coaches clinicians through her private practice in California. She’s written a NY Times article about her experience in continuing to build her business when life brings unexpected adversity. Although he trained as a physicist, he has a passion for small businesses. That’s our focus for today’s show; we will discuss setting fees in your private practice, which can be an uncomfortable subject. Katie has been successful in creating therapy groups for her clients and is eager to share her tips. Our topic is one that frequently comes up in the STC Facebook community: starting a group within your private practice. She’s figured out what to do and what not to do, so we’re splitting this daunting topic into a two-part conversation. Jason shares how he has combined his practice and his love of nature in thinking outside the box. She’s done it with courage, resilience, and boldness. We’ll discuss the process he went through and the lessons he’s learned. Our discussion today stems from a post Amanda made in the STC Facebook community that got an overwhelming response. Learn how these principles can positively impact your business. I’ve tried to make this my personal approach, and I’m excited to chat with Robbin about her experiences. Our topic is one I’ve pondered for awhile. Let’s talk to Jennifer about the pros and cons of such a move. Frances shares information that can help. I’m glad to be back on the podcast after a break over the holidays, and I wish you each a Happy 2017 as we start off this year together! My guest today is Cathy Hanville, LCSW, in Albany, NY. I’m grateful to all my listeners and very humbled to have come this far. She has wisdom to share about the lessons she’s learned on the journey to a successful private practice. Many successful people in history have extolled the benefits of naps, like Leonardo da Vinci, Albert Einstein, Eleanor Roosevelt, and Salvador Dali. ( You can read the full show notes at www.sellingthecouch.com/session97\n",
            "My guest today is Jo Muirhead, a rehab counselor in Australia. You can read the full show notes at www.sellingthecouch.com/session95 \n",
            "Welcome! I’ve wanted to have her on the show ever since she wrote a popular blog post about an important topic: How Comparison can Steal our Joy. Go to http://sellingthecouch.com/kellyandmiranda and take the Mini Business School Bootcamp and get access to free trainings on private practice that therapists rave about, and that can help you make the change you need to have the happy practice that you want. Welcome to this solo session about my morning routine. My guest today is Liz Higgins, LMFT Associate, in the Dallas area. Liz has a private practice that specializes in relationships and marriages of millennials. Those topics and more are the focus of our conversation, so join us! Today's Awesome Sponsor:Kelly and Miranda! Jessica practices in Denver, serving adolescents and young adults with therapy needs. Our topic is a recurring one within the STC community; we’re talking about how to build relationships and expand referral networks with clinicians and non-clinicians. Today’s awesome sponsor is Brighter Vision, so don’t forget to check them out at http://sellingthecouch.com/brightervision to get your first month free! You can read the full show notes and access all the links and resources at www.sellingthecouch.com/session87. Our topic is electronic health records, known as EHR. Today’s topic is one that is a struggle for many of us: Learning to say NO as a business owner. Join me for a great conversation with Allison! I hope you’ll join us and learn from the amazing tips in this conversation! Therapy Partner, 3.0 Is Uniquely Designed For Psychiatrists, Psychologists, and Therapists In Private Practice...Finally! All Your Business Of Practice Tasks Can Be Completed Using A Single Device…Available From Your Computer, Tablet, or Smart Phone. Check them out at http://sellingthecouch.com/therapypartner\n",
            "Welcome! You can read the full show notes and access all the resources at www.sellingthecouch.com/session81   Today's sponsor is Therapy Partner. Listen to Part 1 if you haven’t yet, and then you will have a comprehensive picture of what Online Counseling can do for YOUR practice. It was about his “Walk and Talk Therapy” in Central Park in NYC, which intrigued me while blowing my mind. Her practice focuses on bariatric surgery and the issues of weight loss and eating disorders. Michelle is an active member of the STC Facebook community, and I’ve been intrigued by her ability to use the boost feature for her blog posts. Today’s guest is a therapist in private practice in Asheville, NC. Paul Fuglesang is the founder of Open Path Collective, which connects clinicians and individuals seeking therapists with sliding scale fees. As a private practitioner, how do you share yourself in story without crossing boundaries? Ergonomically speaking, therapists should consider their posture, whether good or bad and its long-term impact on their bodies. Welcome to Part 2 of my conversation with Tiffany McLain. Today’s episode is Part 1 of a conversation with\n",
            "Tiffany McLain, MFT. This episode came out of a blog post by\n",
            "Tiffany entitled, “The Top Ten Myths Therapists Believe about\n",
            "Setting Fees.” Join me---let’s jump into this topic with\n",
            "Tiffany! Rebecca is a Licensed Clinical Social Worker and she is creating an amazing practice. My guest today is Renee Beck, a Marriage and Family Therapist in Oakland, CA. Today’s guest is Robert Cox, a mental health clinician in private practice who recently launched a podcast. Thanks for being a part of the STC family! Jackie has made the transition from being solely a private practice practitioner to consulting. Our topic is increasing efficiency in the day to day operation of a private practice. Efficiency is not a common topic, but the lack of it can waste time, lead to burnout,\n",
            "etc. Today’s guest is Marie Dauterive, who is a registered Marriage and Family Therapy Intern in Florida. Samara is here to discuss a topic that clinicians don’t talk about very much: building an insurance-based private practice. It is unbelievable that this episode brings us to #60! He is here to share his expert advice about Creating a Membership Site. Do you have something to teach others and want recurring, passive income? Today’s show is the first of a two-part series covering the steps in creating an E-Course. Statistics show that the self-improvement industry is a $10-11 billion industry, so we know that there are a lot people who crave knowledge and want to learn. This topic is especially applicable to clinicians because of our unique profession. Tanisha is here to address a highly-requested topic among those in private practice: how to expand your practice and add other clinicians. In this episode of Selling the Couch, Jane Carter talks with Melvin about money. It's hard for clinicians to charge for their services many times, and Jane and Melvin talk about ways to overcome the stigma around money. My guest today is Jasmine Adams, who is a Licensed Clinical Social Worker with her own private practice. She is a success story with many great tips. She took massive action and was able to get the supervisor she needed for her internship, and now she is charting her path towards private practice. Track has 2 private practice locations, and she's here today to share her private practice journey, as well as the common mistakes almost all new private practitioners make. In this episode, our guest Mercedes Samudio shares her best tips for using Periscope to promote your private practice. In this episode of Selling the Couch, Melvin Varghese share 5 tips for building great mastermind groups. My guest today is Neil Patel, who teaches people how to optimize their SEO (search engine optimization). There are definite characteristics of websites with high SEO:\n",
            "\n",
            "A good product, service, and content\n",
            "Links to other websites and resources\n",
            "Social shares\n",
            "\n",
            "Neil advises the following to optimize SEO:\n",
            "\n",
            "Sign up for Google search consul. Submit to Google maps to let them know where you are. Join us for this valuable information and more! Think of networking as an opportunity to build relationships. She has great tips to share with us, so join us! One way to put yourself in networking situations is to utilize www.meetup.com to meet new people in your preferred field. Rebecca conducts training in a variety of modalities and she is here to share with us how we can do it too! I’m talking about USING PODCASTING TO BUILD YOUR BUSINESS. Nick’s inspiration for writing came from the realization that he was “a terrible husband.” Nick says he wrote “to my best friend with my mother listening.” Nick found it helpful to write in “sprints.” He wrote for blocks of time over a short period, and then took a couple of weeks off. Nick shares details about the following aspects of the writing process:\n",
            "\n",
            "Organization---Nick found it worked best for him to write huge sections then organize it later. Environment---Nick found the perfect environment for his writing at a local McDonald’s. Listen to find out why this worked so well for him! Voice---Even though Nick had written countless legal documents and papers in his career, THIS kind of writing was very different. There isn't anything that we could make a private practice clinician more happy than hearing those words! Alexandra worked in Bulgaria for the Peace Corps from 1998-2000. She tells couples that her goal with their therapy is to “work herself out of a job.” In our conversation, Alexandra gives insight about the following topics:\n",
            "\n",
            "Alexandra’s interest in couples’ therapy stemmed from the transformation she witnessed in her parents! Couples’ therapy calls for longer sessions. Alexandra offers sessions ranging from 90 minutes to as long as an all-day session! The length of treatment time varies greatly from couple to couple. Her one tip for someone starting out in private practice is this: “Don’t be afraid to make a good living, and don’t feel guilty about it!” Hal Elrod takes us through his journey of dying in a car accident, to developing habits that have changed his life. He began the miracle morning as a way to pull himself out of his lowest point, when he lost his business and wanted to hide. Eric Tivers, host of the ADHD Rewired Podcast shares his journey to building his own private therapy practice. I have learned so many things from starting a podcast, so I thought I would share my top 5 lessons with you. In fact, she's run Facebook Ad campaigns for \"A-list\" entrepreneurs like John Lee Dumas and Nick Unsworth. Today's session is an intro to FB Ads for private practitoners. In this session, you’ll learn what Deb learned from being on insurance panels versus private pay, some small changes you can make in your office to make clients feel more comfortable, Deb's screening process to make sure that clients are a good fit, how to decide whether to put session fees on your website, the importance of language on a private practice website, how Deb explains informed consent to her clients, some tips about personal disclosure on a private practice website, and the biggest business lesson Deb learned from her time in private practice. My guest today is Mari Lee, LMFT, CSAT-S.  Mari has an amazing story of being in foster care as a child to building a very successful private practice where she focuses on helps individuals who struggle with sex addiction. In this episode, you’ll learn: Mari's favorite quotes that can be valuable as you take the leap into private practice, practical tips to balance work and life so you don't burn out in private practice, tools to help you create a vision for your private practice, and ways to create an online store for products for clients and colleagues. We quickly get overwhelmed and some of us burn out. To help, I'm interviewing successful clinicians about the \"business side\" of private practice (e.g., how they get referrals, their best advice for new practitioners, etc.) In this episode,  you'll learn how this podcast can help you especially if you're a new to a therapy private practice or dream of owning a private practice one day, some of the guests that are coming on the show, where the Idea for the Selling the Couch podcast came from, the format of the podcast and where you can can listen and download Show Notes, a Resource Page, and Tax Write-off Checklist I put together for mental health private practitioners, and more about the man, the mystery that is Melvin Varghese.\n"
          ],
          "name": "stdout"
        }
      ]
    },
    {
      "cell_type": "code",
      "metadata": {
        "id": "BHtFbpm5kkrM",
        "colab_type": "code",
        "colab": {}
      },
      "source": [
        ""
      ],
      "execution_count": 0,
      "outputs": []
    }
  ]
}